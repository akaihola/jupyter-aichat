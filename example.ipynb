{
 "cells": [
  {
   "cell_type": "code",
   "execution_count": 1,
   "id": "0ad5ebcc-38de-4cb6-938a-cb64ff837e58",
   "metadata": {},
   "outputs": [
    {
     "name": "stdout",
     "output_type": "stream",
     "text": [
      "Collecting jupyter_aichat\n",
      "  Downloading jupyter_aichat-0.0.3-py2.py3-none-any.whl (3.9 kB)\n",
      "Installing collected packages: jupyter_aichat\n",
      "Successfully installed jupyter_aichat-0.0.3\n"
     ]
    }
   ],
   "source": [
    "!pip install jupyter_aichat"
   ]
  },
  {
   "cell_type": "code",
   "execution_count": 2,
   "id": "381efcbb-5c56-4707-b1af-3fd840eee333",
   "metadata": {},
   "outputs": [],
   "source": [
    "%load_ext jupyter_aichat"
   ]
  },
  {
   "cell_type": "code",
   "execution_count": 3,
   "id": "2d39a82c-f5d7-498f-9f1d-d203afb89366",
   "metadata": {},
   "outputs": [
    {
     "name": "stdin",
     "output_type": "stream",
     "text": [
      "Enter your OpenAI API key: ········\n"
     ]
    },
    {
     "data": {
      "text/markdown": [
       "That sounds really interesting! Can you tell me more about how it works and what kind of AI it uses?"
      ],
      "text/plain": [
       "<IPython.core.display.Markdown object>"
      ]
     },
     "metadata": {},
     "output_type": "display_data"
    }
   ],
   "source": [
    "%%ai\n",
    "I've created an AI chat user interface for Jupyter notebooks.\n",
    "It adds the `%ai` and `%%ai` magic commands for writing messages,\n",
    "renders response messages in the notebook,\n",
    "and keeps the whole conversation in memory."
   ]
  },
  {
   "cell_type": "code",
   "execution_count": 4,
   "id": "bfacd0e3-103e-4571-8836-1a69c830f346",
   "metadata": {},
   "outputs": [
    {
     "data": {
      "text/markdown": [
       "That sounds really convenient! And what exactly is ChatGPT and how does it generate responses?"
      ],
      "text/plain": [
       "<IPython.core.display.Markdown object>"
      ]
     },
     "metadata": {},
     "output_type": "display_data"
    }
   ],
   "source": [
    "%%ai\n",
    "The user just types `%ai \"<message>\"` or `%%ai` followed by a multi-line message.\n",
    "It asks for the ChatGPT API key before sending the first message.\n",
    "Both sent messages and received messages are kept in memory\n",
    "and the whole message history is submitted every time the magic command is used.\n",
    "The response from ChatGPT is rendered as Markdown."
   ]
  },
  {
   "cell_type": "code",
   "execution_count": 5,
   "id": "5ca4c804-31c6-43f6-9306-f1085455a157",
   "metadata": {},
   "outputs": [
    {
     "data": {
      "text/markdown": [
       "As an AI language model, I don't know everything about what specific tools or algorithms you've used in the creation of your AI chat user interface. However, generally speaking, GPT (Generative Pre-trained Transformer) is a type of language model that uses deep learning to generate human-like text. ChatGPT is a variant of GPT specifically designed for chatbots and conversational agents, and it has been trained on vast amounts of existing human conversations to learn how to simulate natural language interactions. When a user inputs a message, ChatGPT uses this training to generate an appropriate response based on the context of the conversation."
      ],
      "text/plain": [
       "<IPython.core.display.Markdown object>"
      ]
     },
     "metadata": {},
     "output_type": "display_data"
    }
   ],
   "source": [
    "%ai \"I think you know that best yourself :)\""
   ]
  },
  {
   "cell_type": "code",
   "execution_count": 6,
   "id": "37089724-c389-408c-ac95-ae5fe976f94b",
   "metadata": {},
   "outputs": [
    {
     "data": {
      "text/markdown": [
       "That sounds like a great idea! Having a clear explanation of how the chat interface works and the technology it uses will help make it more accessible to potential users. Good luck with your project!"
      ],
      "text/plain": [
       "<IPython.core.display.Markdown object>"
      ]
     },
     "metadata": {},
     "output_type": "display_data"
    }
   ],
   "source": [
    "%%ai\n",
    "Thanks for the summary!\n",
    "I'm publishing this on GitHub and putting this very discussion as the README."
   ]
  }
 ],
 "metadata": {
  "kernelspec": {
   "display_name": "py311",
   "language": "python",
   "name": "py311"
  },
  "language_info": {
   "codemirror_mode": {
    "name": "ipython",
    "version": 3
   },
   "file_extension": ".py",
   "mimetype": "text/x-python",
   "name": "python",
   "nbconvert_exporter": "python",
   "pygments_lexer": "ipython3",
   "version": "3.11.2"
  }
 },
 "nbformat": 4,
 "nbformat_minor": 5
}
